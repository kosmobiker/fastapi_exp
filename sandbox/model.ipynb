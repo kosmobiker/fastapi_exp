{
 "cells": [
  {
   "cell_type": "code",
   "metadata": {
    "ExecuteTime": {
     "end_time": "2024-05-02T07:27:34.611433Z",
     "start_time": "2024-05-02T07:27:34.076283Z"
    }
   },
   "source": [
    "import pandas as pd\n",
    "import numpy as np\n",
    "\n",
    "\n",
    "from sklearn.model_selection import train_test_split\n",
    "from sklearn.preprocessing import OneHotEncoder, StandardScaler\n",
    "from sklearn.base import BaseEstimator, TransformerMixin\n",
    "from sklearn.compose import make_column_transformer\n",
    "from sklearn.model_selection import GridSearchCV, StratifiedKFold\n",
    "from sklearn.metrics import roc_curve, recall_score, make_scorer, roc_auc_score\n",
    "from sklearn.pipeline import make_pipeline, Pipeline\n",
    "from sklearn.linear_model import LogisticRegression\n",
    "\n",
    "import joblib\n",
    "import lightgbm as lgb\n",
    "\n",
    "import warnings\n",
    "# Suppress all future warnings\n",
    "warnings.simplefilter(action='ignore', category=FutureWarning)"
   ],
   "outputs": [],
   "execution_count": 1
  },
  {
   "cell_type": "code",
   "metadata": {
    "ExecuteTime": {
     "end_time": "2024-05-02T07:27:37.058455Z",
     "start_time": "2024-05-02T07:27:35.584497Z"
    }
   },
   "source": [
    "df = pd.read_csv('../data/Base.csv')"
   ],
   "outputs": [],
   "execution_count": 2
  },
  {
   "cell_type": "code",
   "metadata": {
    "ExecuteTime": {
     "end_time": "2024-05-02T07:27:37.079215Z",
     "start_time": "2024-05-02T07:27:37.059733Z"
    }
   },
   "source": [
    "df.head()"
   ],
   "outputs": [
    {
     "data": {
      "text/plain": [
       "   fraud_bool  income  name_email_similarity  prev_address_months_count  \\\n",
       "0           0     0.3               0.986506                         -1   \n",
       "1           0     0.8               0.617426                         -1   \n",
       "2           0     0.8               0.996707                          9   \n",
       "3           0     0.6               0.475100                         11   \n",
       "4           0     0.9               0.842307                         -1   \n",
       "\n",
       "   current_address_months_count  customer_age  days_since_request  \\\n",
       "0                            25            40            0.006735   \n",
       "1                            89            20            0.010095   \n",
       "2                            14            40            0.012316   \n",
       "3                            14            30            0.006991   \n",
       "4                            29            40            5.742626   \n",
       "\n",
       "   intended_balcon_amount payment_type  zip_count_4w  ...  has_other_cards  \\\n",
       "0              102.453711           AA          1059  ...                0   \n",
       "1               -0.849551           AD          1658  ...                0   \n",
       "2               -1.490386           AB          1095  ...                0   \n",
       "3               -1.863101           AB          3483  ...                0   \n",
       "4               47.152498           AA          2339  ...                0   \n",
       "\n",
       "   proposed_credit_limit  foreign_request    source  \\\n",
       "0                 1500.0                0  INTERNET   \n",
       "1                 1500.0                0  INTERNET   \n",
       "2                  200.0                0  INTERNET   \n",
       "3                  200.0                0  INTERNET   \n",
       "4                  200.0                0  INTERNET   \n",
       "\n",
       "   session_length_in_minutes device_os  keep_alive_session  \\\n",
       "0                  16.224843     linux                   1   \n",
       "1                   3.363854     other                   1   \n",
       "2                  22.730559   windows                   0   \n",
       "3                  15.215816     linux                   1   \n",
       "4                   3.743048     other                   0   \n",
       "\n",
       "   device_distinct_emails_8w device_fraud_count  month  \n",
       "0                          1                  0      0  \n",
       "1                          1                  0      0  \n",
       "2                          1                  0      0  \n",
       "3                          1                  0      0  \n",
       "4                          1                  0      0  \n",
       "\n",
       "[5 rows x 32 columns]"
      ],
      "text/html": [
       "<div>\n",
       "<style scoped>\n",
       "    .dataframe tbody tr th:only-of-type {\n",
       "        vertical-align: middle;\n",
       "    }\n",
       "\n",
       "    .dataframe tbody tr th {\n",
       "        vertical-align: top;\n",
       "    }\n",
       "\n",
       "    .dataframe thead th {\n",
       "        text-align: right;\n",
       "    }\n",
       "</style>\n",
       "<table border=\"1\" class=\"dataframe\">\n",
       "  <thead>\n",
       "    <tr style=\"text-align: right;\">\n",
       "      <th></th>\n",
       "      <th>fraud_bool</th>\n",
       "      <th>income</th>\n",
       "      <th>name_email_similarity</th>\n",
       "      <th>prev_address_months_count</th>\n",
       "      <th>current_address_months_count</th>\n",
       "      <th>customer_age</th>\n",
       "      <th>days_since_request</th>\n",
       "      <th>intended_balcon_amount</th>\n",
       "      <th>payment_type</th>\n",
       "      <th>zip_count_4w</th>\n",
       "      <th>...</th>\n",
       "      <th>has_other_cards</th>\n",
       "      <th>proposed_credit_limit</th>\n",
       "      <th>foreign_request</th>\n",
       "      <th>source</th>\n",
       "      <th>session_length_in_minutes</th>\n",
       "      <th>device_os</th>\n",
       "      <th>keep_alive_session</th>\n",
       "      <th>device_distinct_emails_8w</th>\n",
       "      <th>device_fraud_count</th>\n",
       "      <th>month</th>\n",
       "    </tr>\n",
       "  </thead>\n",
       "  <tbody>\n",
       "    <tr>\n",
       "      <th>0</th>\n",
       "      <td>0</td>\n",
       "      <td>0.3</td>\n",
       "      <td>0.986506</td>\n",
       "      <td>-1</td>\n",
       "      <td>25</td>\n",
       "      <td>40</td>\n",
       "      <td>0.006735</td>\n",
       "      <td>102.453711</td>\n",
       "      <td>AA</td>\n",
       "      <td>1059</td>\n",
       "      <td>...</td>\n",
       "      <td>0</td>\n",
       "      <td>1500.0</td>\n",
       "      <td>0</td>\n",
       "      <td>INTERNET</td>\n",
       "      <td>16.224843</td>\n",
       "      <td>linux</td>\n",
       "      <td>1</td>\n",
       "      <td>1</td>\n",
       "      <td>0</td>\n",
       "      <td>0</td>\n",
       "    </tr>\n",
       "    <tr>\n",
       "      <th>1</th>\n",
       "      <td>0</td>\n",
       "      <td>0.8</td>\n",
       "      <td>0.617426</td>\n",
       "      <td>-1</td>\n",
       "      <td>89</td>\n",
       "      <td>20</td>\n",
       "      <td>0.010095</td>\n",
       "      <td>-0.849551</td>\n",
       "      <td>AD</td>\n",
       "      <td>1658</td>\n",
       "      <td>...</td>\n",
       "      <td>0</td>\n",
       "      <td>1500.0</td>\n",
       "      <td>0</td>\n",
       "      <td>INTERNET</td>\n",
       "      <td>3.363854</td>\n",
       "      <td>other</td>\n",
       "      <td>1</td>\n",
       "      <td>1</td>\n",
       "      <td>0</td>\n",
       "      <td>0</td>\n",
       "    </tr>\n",
       "    <tr>\n",
       "      <th>2</th>\n",
       "      <td>0</td>\n",
       "      <td>0.8</td>\n",
       "      <td>0.996707</td>\n",
       "      <td>9</td>\n",
       "      <td>14</td>\n",
       "      <td>40</td>\n",
       "      <td>0.012316</td>\n",
       "      <td>-1.490386</td>\n",
       "      <td>AB</td>\n",
       "      <td>1095</td>\n",
       "      <td>...</td>\n",
       "      <td>0</td>\n",
       "      <td>200.0</td>\n",
       "      <td>0</td>\n",
       "      <td>INTERNET</td>\n",
       "      <td>22.730559</td>\n",
       "      <td>windows</td>\n",
       "      <td>0</td>\n",
       "      <td>1</td>\n",
       "      <td>0</td>\n",
       "      <td>0</td>\n",
       "    </tr>\n",
       "    <tr>\n",
       "      <th>3</th>\n",
       "      <td>0</td>\n",
       "      <td>0.6</td>\n",
       "      <td>0.475100</td>\n",
       "      <td>11</td>\n",
       "      <td>14</td>\n",
       "      <td>30</td>\n",
       "      <td>0.006991</td>\n",
       "      <td>-1.863101</td>\n",
       "      <td>AB</td>\n",
       "      <td>3483</td>\n",
       "      <td>...</td>\n",
       "      <td>0</td>\n",
       "      <td>200.0</td>\n",
       "      <td>0</td>\n",
       "      <td>INTERNET</td>\n",
       "      <td>15.215816</td>\n",
       "      <td>linux</td>\n",
       "      <td>1</td>\n",
       "      <td>1</td>\n",
       "      <td>0</td>\n",
       "      <td>0</td>\n",
       "    </tr>\n",
       "    <tr>\n",
       "      <th>4</th>\n",
       "      <td>0</td>\n",
       "      <td>0.9</td>\n",
       "      <td>0.842307</td>\n",
       "      <td>-1</td>\n",
       "      <td>29</td>\n",
       "      <td>40</td>\n",
       "      <td>5.742626</td>\n",
       "      <td>47.152498</td>\n",
       "      <td>AA</td>\n",
       "      <td>2339</td>\n",
       "      <td>...</td>\n",
       "      <td>0</td>\n",
       "      <td>200.0</td>\n",
       "      <td>0</td>\n",
       "      <td>INTERNET</td>\n",
       "      <td>3.743048</td>\n",
       "      <td>other</td>\n",
       "      <td>0</td>\n",
       "      <td>1</td>\n",
       "      <td>0</td>\n",
       "      <td>0</td>\n",
       "    </tr>\n",
       "  </tbody>\n",
       "</table>\n",
       "<p>5 rows × 32 columns</p>\n",
       "</div>"
      ]
     },
     "execution_count": 3,
     "metadata": {},
     "output_type": "execute_result"
    }
   ],
   "execution_count": 3
  },
  {
   "cell_type": "code",
   "metadata": {
    "ExecuteTime": {
     "end_time": "2024-05-02T07:27:37.083300Z",
     "start_time": "2024-05-02T07:27:37.080217Z"
    }
   },
   "source": [
    "df.shape"
   ],
   "outputs": [
    {
     "data": {
      "text/plain": [
       "(1000000, 32)"
      ]
     },
     "execution_count": 4,
     "metadata": {},
     "output_type": "execute_result"
    }
   ],
   "execution_count": 4
  },
  {
   "cell_type": "code",
   "metadata": {
    "ExecuteTime": {
     "end_time": "2024-05-02T07:27:37.089802Z",
     "start_time": "2024-05-02T07:27:37.084715Z"
    }
   },
   "source": [
    "SEED = 42\n",
    "TARGET = 'fraud_bool'"
   ],
   "outputs": [],
   "execution_count": 5
  },
  {
   "cell_type": "code",
   "metadata": {
    "ExecuteTime": {
     "end_time": "2024-05-02T07:27:37.709271Z",
     "start_time": "2024-05-02T07:27:37.090773Z"
    }
   },
   "source": [
    "X = df.drop(TARGET,axis=1)\n",
    "y = df[TARGET]\n",
    "X_train, X_test, y_train, y_test = train_test_split(X, y, stratify=y, train_size=0.6, random_state=SEED)\n",
    "X_holdout, X_test, y_holdout, y_test = train_test_split(X_test, y_test, stratify=y_test, test_size=0.5, random_state=SEED)\n"
   ],
   "outputs": [],
   "execution_count": 6
  },
  {
   "cell_type": "code",
   "metadata": {
    "ExecuteTime": {
     "end_time": "2024-05-02T07:27:37.714046Z",
     "start_time": "2024-05-02T07:27:37.710584Z"
    }
   },
   "source": [
    "X_train.shape, X_holdout.shape, X_test.shape"
   ],
   "outputs": [
    {
     "data": {
      "text/plain": [
       "((600000, 31), (200000, 31), (200000, 31))"
      ]
     },
     "execution_count": 7,
     "metadata": {},
     "output_type": "execute_result"
    }
   ],
   "execution_count": 7
  },
  {
   "cell_type": "code",
   "metadata": {
    "ExecuteTime": {
     "end_time": "2024-05-02T07:27:37.731573Z",
     "start_time": "2024-05-02T07:27:37.714998Z"
    }
   },
   "source": [
    "# Create ColumnDropper class\n",
    "class ColumnDropper(BaseEstimator, TransformerMixin):\n",
    "    def __init__(self, columns_to_drop):\n",
    "        self.columns_to_drop = columns_to_drop\n",
    "\n",
    "    def fit(self, X, y=None):\n",
    "        return self\n",
    "\n",
    "    def transform(self, X):\n",
    "        X_transformed = X.copy()\n",
    "        X_transformed = X_transformed.drop(self.columns_to_drop,axis=1)\n",
    "        return X_transformed\n",
    "    \n",
    "# Create Missing values (-1 or negative) to nan transformer class\n",
    "class MissingAsNan(BaseEstimator, TransformerMixin):\n",
    "    def __init__(self, missing_neg1, missing_neg):\n",
    "        self.missing_neg1 = missing_neg1\n",
    "        self.missing_neg = missing_neg\n",
    "        \n",
    "    def fit(self, X, y=None):\n",
    "        return self\n",
    "    \n",
    "    def transform(self, X):\n",
    "        X_transformed = X.copy()\n",
    "        X_transformed[self.missing_neg1] = X_transformed[self.missing_neg1]\\\n",
    "            .replace(-1, np.nan)\n",
    "        X_transformed[self.missing_neg] = X_transformed[self.missing_neg]\\\n",
    "            .map(lambda x: np.nan if x < 0 else x)\n",
    "        return X_transformed\n",
    "\n",
    "# Create MissingFlagger class\n",
    "class MissingFlagger(BaseEstimator, TransformerMixin):\n",
    "    def __init__(self, columns_to_flag=None):\n",
    "        self.columns_to_flag = columns_to_flag\n",
    "    \n",
    "    def fit(self, X, y=None):\n",
    "        return self\n",
    "    \n",
    "    def transform(self, X):\n",
    "        X_transformed = X.copy()\n",
    "        for col in self.columns_to_flag:\n",
    "            X_transformed[f'MISSING_FLAG_{col}'] = X_transformed[col].isnull().astype(int)\n",
    "        return X_transformed\n",
    "\n",
    "# Create MissingValueFiller class\n",
    "class MissingValueFiller(BaseEstimator, TransformerMixin):\n",
    "    def __init__(self, fill_value=0):\n",
    "        self.fill_value = fill_value\n",
    "\n",
    "    def fit(self, X, y=None):\n",
    "        return self\n",
    "\n",
    "    def transform(self, X):\n",
    "        X_transformed = X.copy()\n",
    "        X_transformed = X_transformed.fillna(self.fill_value)\n",
    "        return X_transformed\n",
    "    \n",
    "# Create IncomeRounder class\n",
    "class IncomeRounder(BaseEstimator, TransformerMixin):\n",
    "    def __init__(self):\n",
    "        pass\n",
    "    \n",
    "    def fit(self, X, y=None):\n",
    "        return self\n",
    "    \n",
    "    def transform(self, X):\n",
    "        X_transformed = X.copy()\n",
    "        X_transformed['income'] = X_transformed['income'].round(1)\n",
    "        return X_transformed\n",
    "    \n",
    "# Create Merger class to merge some of the categories of categorical features\n",
    "class Merger(BaseEstimator, TransformerMixin):\n",
    "    def __init__(self):\n",
    "        pass\n",
    "    \n",
    "    def fit(self, X, y=None):\n",
    "        return self\n",
    "    \n",
    "    def transform(self, X):\n",
    "        X_transformed = X.copy()\n",
    "        # proposed_credit_limit\n",
    "        X_transformed['proposed_credit_limit'] = X_transformed['proposed_credit_limit']\\\n",
    "        .apply(lambda x: min(4,max(0,1+x//500))).astype('int')\n",
    "        # housing_status\n",
    "        X_transformed['housing_status'] = X_transformed['housing_status']\\\n",
    "        .apply(lambda x: 'other' if x in {'BD','BF','BG'} else x)  \n",
    "        # device_os\n",
    "        X_transformed['device_os'] = X_transformed['device_os']\\\n",
    "        .apply(lambda x: 'other' if x == 'x11' else x)\n",
    "        return X_transformed\n",
    "\n",
    "# Create CategoricalConverter class, converting dtype of categorical features to 'category'\n",
    "class CategoricalConverter(BaseEstimator, TransformerMixin):\n",
    "    def __init__(self, cat_columns):\n",
    "        self.cat_columns = cat_columns\n",
    "        self.categories_ = {}\n",
    "\n",
    "    def fit(self, X, y=None):\n",
    "        for col in self.cat_columns:\n",
    "            self.categories_[col] = X[col].astype('category').cat.categories\n",
    "        return self\n",
    "\n",
    "    def transform(self, X):\n",
    "        X_transformed = X.copy()\n",
    "        for col in self.cat_columns:\n",
    "            X_transformed[col] = pd.Categorical(X_transformed[col],\n",
    "                                                categories=self.categories_[col], \n",
    "                                                ordered=False)\n",
    "        return X_transformed    \n",
    "    \n",
    "# Create CustomOneHotEncoder class for one-hot-encoding, returning a dataframe\n",
    "class CustomOneHotEncoder(TransformerMixin, BaseEstimator):\n",
    "    def __init__(self, ohe_columns):\n",
    "        self.ohe_columns = ohe_columns\n",
    "        self.ohe = OneHotEncoder(sparse_output=False, handle_unknown='ignore')\n",
    "        self.feature_names = None\n",
    "\n",
    "    def fit(self, X, y=None):\n",
    "        self.ohe.fit(X[self.ohe_columns].astype('category'))\n",
    "        self.feature_names = list(X.columns)\n",
    "        return self\n",
    "\n",
    "    def transform(self, X):\n",
    "        # One-hot encode the specified columns\n",
    "        X_ohe = X[self.ohe_columns].copy()\n",
    "        X_ohe = self.ohe.transform(X_ohe)\n",
    "        ohe_column_names = self.ohe.get_feature_names_out(self.ohe_columns)\n",
    "        X_ohe = pd.DataFrame(X_ohe, columns=ohe_column_names, index=X.index)\n",
    "\n",
    "        # Concatenate the one-hot-encoded columns with the remaining columns\n",
    "        X_transformed = pd.concat([X.drop(self.ohe_columns,axis=1), X_ohe], axis=1).copy()\n",
    "\n",
    "        return X_transformed\n",
    "\n",
    "# Create CustomScalar class for standardization and column name adjustment\n",
    "# If no columns given, scales all\n",
    "class CustomScaler(BaseEstimator, TransformerMixin):\n",
    "    def __init__(self, columns_to_standardize=None):\n",
    "        self.columns_to_standardize = columns_to_standardize\n",
    "\n",
    "    def fit(self, X, y=None):\n",
    "        if self.columns_to_standardize is None:\n",
    "            self.columns_to_standardize = list(X.columns)\n",
    "        if self.columns_to_standardize:\n",
    "            self.scaler = StandardScaler()\n",
    "            self.scaler.fit(X[self.columns_to_standardize])\n",
    "        return self\n",
    "    \n",
    "    def transform(self, X):\n",
    "        X_transformed = X.copy()\n",
    "        if self.columns_to_standardize:\n",
    "            X_transformed[self.columns_to_standardize] = self.scaler\\\n",
    "                .transform(X_transformed[self.columns_to_standardize])\n",
    "        return X_transformed"
   ],
   "outputs": [],
   "execution_count": 8
  },
  {
   "cell_type": "code",
   "metadata": {
    "ExecuteTime": {
     "end_time": "2024-05-02T07:27:37.971419Z",
     "start_time": "2024-05-02T07:27:37.968973Z"
    }
   },
   "source": [
    "cols_to_drop = ['source', 'device_fraud_count']\n",
    "\n",
    "cols_missing_neg1 = ['prev_address_months_count', \n",
    "                     'current_address_months_count', \n",
    "                     'bank_months_count', \n",
    "                     'session_length_in_minutes', \n",
    "                     'device_distinct_emails_8w']\n",
    "cols_missing_neg = ['intended_balcon_amount']\n",
    "\n",
    "cols_to_flag = ['prev_address_months_count', \n",
    "                'intended_balcon_amount', \n",
    "                'bank_months_count']\n",
    "\n",
    "fill_value = -1\n",
    "\n",
    "ohe_cols = ['payment_type', \n",
    "            'employment_status', \n",
    "            'housing_status', \n",
    "            'device_os', \n",
    "            'device_distinct_emails_8w']"
   ],
   "outputs": [],
   "execution_count": 9
  },
  {
   "cell_type": "code",
   "metadata": {
    "ExecuteTime": {
     "end_time": "2024-05-02T07:27:38.149436Z",
     "start_time": "2024-05-02T07:27:38.146714Z"
    }
   },
   "source": [
    "# Create the preprocessor\n",
    "logreg_preprocessor = make_pipeline(ColumnDropper(cols_to_drop),\n",
    "                                    MissingAsNan(cols_missing_neg1,cols_missing_neg),\n",
    "                                    MissingFlagger(cols_to_flag),\n",
    "                                    MissingValueFiller(fill_value),\n",
    "                                    IncomeRounder(),\n",
    "                                    Merger(),\n",
    "                                    CustomOneHotEncoder(ohe_cols),\n",
    "                                    CustomScaler()\n",
    "                                   )"
   ],
   "outputs": [],
   "execution_count": 10
  },
  {
   "cell_type": "code",
   "metadata": {
    "ExecuteTime": {
     "end_time": "2024-05-02T07:27:38.464793Z",
     "start_time": "2024-05-02T07:27:38.462027Z"
    }
   },
   "source": [
    "# Recall @ 5% FPR\n",
    "\n",
    "def recall_at_5percent_fpr(y_true, y_pred_proba):\n",
    "    fpr, tpr, _ = roc_curve(y_true, y_pred_proba)\n",
    "    target_fpr = 0.05\n",
    "    idx = (np.abs(fpr - target_fpr)).argmin()\n",
    "    return tpr[idx]\n",
    "\n",
    "# Create custom scorer using the custom scoring function\n",
    "custom_scorer = make_scorer(recall_at_5percent_fpr, response_method='predict')"
   ],
   "outputs": [],
   "execution_count": 11
  },
  {
   "cell_type": "code",
   "metadata": {
    "ExecuteTime": {
     "end_time": "2024-05-02T07:27:38.784095Z",
     "start_time": "2024-05-02T07:27:38.781634Z"
    }
   },
   "source": [
    "# Define logistic regression model\n",
    "logreg_model = LogisticRegression(class_weight='balanced', random_state=SEED, n_jobs=-1)"
   ],
   "outputs": [],
   "execution_count": 12
  },
  {
   "cell_type": "code",
   "metadata": {
    "ExecuteTime": {
     "end_time": "2024-05-02T07:27:39.074997Z",
     "start_time": "2024-05-02T07:27:39.072565Z"
    }
   },
   "source": [
    "# Create pipeline for logistic regression\n",
    "logreg_pipeline = Pipeline([\n",
    "    ('logreg_preprocessor', logreg_preprocessor),\n",
    "    ('logisticregression', LogisticRegression())\n",
    "])"
   ],
   "outputs": [],
   "execution_count": 13
  },
  {
   "cell_type": "code",
   "metadata": {
    "ExecuteTime": {
     "end_time": "2024-05-02T07:27:39.354522Z",
     "start_time": "2024-05-02T07:27:39.352047Z"
    }
   },
   "source": [
    "# Define hyperparameter grid\n",
    "param_grid = {'logisticregression__C': [0.01, 0.1, 1, 10]}\n",
    "# Create StratifiedKFold object\n",
    "stratified_cv = StratifiedKFold(n_splits=5, shuffle=True, random_state=SEED)\n",
    "\n",
    "# Create GridSearchCV object\n",
    "grid_search = GridSearchCV(logreg_pipeline, param_grid, cv=stratified_cv, scoring=custom_scorer, n_jobs=2)"
   ],
   "outputs": [],
   "execution_count": 14
  },
  {
   "cell_type": "code",
   "metadata": {
    "ExecuteTime": {
     "end_time": "2024-05-02T07:28:14.201210Z",
     "start_time": "2024-05-02T07:27:39.678050Z"
    }
   },
   "source": [
    "# Perform grid search\n",
    "grid_search.fit(X_train, y_train)"
   ],
   "outputs": [
    {
     "data": {
      "text/plain": [
       "GridSearchCV(cv=StratifiedKFold(n_splits=5, random_state=42, shuffle=True),\n",
       "             estimator=Pipeline(steps=[('logreg_preprocessor',\n",
       "                                        Pipeline(steps=[('columndropper',\n",
       "                                                         ColumnDropper(columns_to_drop=['source',\n",
       "                                                                                        'device_fraud_count'])),\n",
       "                                                        ('missingasnan',\n",
       "                                                         MissingAsNan(missing_neg=['intended_balcon_amount'],\n",
       "                                                                      missing_neg1=['prev_address_months_count',\n",
       "                                                                                    'current_address_mont...\n",
       "                                                        ('customonehotencoder',\n",
       "                                                         CustomOneHotEncoder(ohe_columns=['payment_type',\n",
       "                                                                                          'employment_status',\n",
       "                                                                                          'housing_status',\n",
       "                                                                                          'device_os',\n",
       "                                                                                          'device_distinct_emails_8w'])),\n",
       "                                                        ('customscaler',\n",
       "                                                         CustomScaler())])),\n",
       "                                       ('logisticregression',\n",
       "                                        LogisticRegression())]),\n",
       "             n_jobs=2, param_grid={'logisticregression__C': [0.01, 0.1, 1, 10]},\n",
       "             scoring=make_scorer(recall_at_5percent_fpr, response_method='predict'))"
      ],
      "text/html": [
       "<style>#sk-container-id-1 {\n",
       "  /* Definition of color scheme common for light and dark mode */\n",
       "  --sklearn-color-text: black;\n",
       "  --sklearn-color-line: gray;\n",
       "  /* Definition of color scheme for unfitted estimators */\n",
       "  --sklearn-color-unfitted-level-0: #fff5e6;\n",
       "  --sklearn-color-unfitted-level-1: #f6e4d2;\n",
       "  --sklearn-color-unfitted-level-2: #ffe0b3;\n",
       "  --sklearn-color-unfitted-level-3: chocolate;\n",
       "  /* Definition of color scheme for fitted estimators */\n",
       "  --sklearn-color-fitted-level-0: #f0f8ff;\n",
       "  --sklearn-color-fitted-level-1: #d4ebff;\n",
       "  --sklearn-color-fitted-level-2: #b3dbfd;\n",
       "  --sklearn-color-fitted-level-3: cornflowerblue;\n",
       "\n",
       "  /* Specific color for light theme */\n",
       "  --sklearn-color-text-on-default-background: var(--sg-text-color, var(--theme-code-foreground, var(--jp-content-font-color1, black)));\n",
       "  --sklearn-color-background: var(--sg-background-color, var(--theme-background, var(--jp-layout-color0, white)));\n",
       "  --sklearn-color-border-box: var(--sg-text-color, var(--theme-code-foreground, var(--jp-content-font-color1, black)));\n",
       "  --sklearn-color-icon: #696969;\n",
       "\n",
       "  @media (prefers-color-scheme: dark) {\n",
       "    /* Redefinition of color scheme for dark theme */\n",
       "    --sklearn-color-text-on-default-background: var(--sg-text-color, var(--theme-code-foreground, var(--jp-content-font-color1, white)));\n",
       "    --sklearn-color-background: var(--sg-background-color, var(--theme-background, var(--jp-layout-color0, #111)));\n",
       "    --sklearn-color-border-box: var(--sg-text-color, var(--theme-code-foreground, var(--jp-content-font-color1, white)));\n",
       "    --sklearn-color-icon: #878787;\n",
       "  }\n",
       "}\n",
       "\n",
       "#sk-container-id-1 {\n",
       "  color: var(--sklearn-color-text);\n",
       "}\n",
       "\n",
       "#sk-container-id-1 pre {\n",
       "  padding: 0;\n",
       "}\n",
       "\n",
       "#sk-container-id-1 input.sk-hidden--visually {\n",
       "  border: 0;\n",
       "  clip: rect(1px 1px 1px 1px);\n",
       "  clip: rect(1px, 1px, 1px, 1px);\n",
       "  height: 1px;\n",
       "  margin: -1px;\n",
       "  overflow: hidden;\n",
       "  padding: 0;\n",
       "  position: absolute;\n",
       "  width: 1px;\n",
       "}\n",
       "\n",
       "#sk-container-id-1 div.sk-dashed-wrapped {\n",
       "  border: 1px dashed var(--sklearn-color-line);\n",
       "  margin: 0 0.4em 0.5em 0.4em;\n",
       "  box-sizing: border-box;\n",
       "  padding-bottom: 0.4em;\n",
       "  background-color: var(--sklearn-color-background);\n",
       "}\n",
       "\n",
       "#sk-container-id-1 div.sk-container {\n",
       "  /* jupyter's `normalize.less` sets `[hidden] { display: none; }`\n",
       "     but bootstrap.min.css set `[hidden] { display: none !important; }`\n",
       "     so we also need the `!important` here to be able to override the\n",
       "     default hidden behavior on the sphinx rendered scikit-learn.org.\n",
       "     See: https://github.com/scikit-learn/scikit-learn/issues/21755 */\n",
       "  display: inline-block !important;\n",
       "  position: relative;\n",
       "}\n",
       "\n",
       "#sk-container-id-1 div.sk-text-repr-fallback {\n",
       "  display: none;\n",
       "}\n",
       "\n",
       "div.sk-parallel-item,\n",
       "div.sk-serial,\n",
       "div.sk-item {\n",
       "  /* draw centered vertical line to link estimators */\n",
       "  background-image: linear-gradient(var(--sklearn-color-text-on-default-background), var(--sklearn-color-text-on-default-background));\n",
       "  background-size: 2px 100%;\n",
       "  background-repeat: no-repeat;\n",
       "  background-position: center center;\n",
       "}\n",
       "\n",
       "/* Parallel-specific style estimator block */\n",
       "\n",
       "#sk-container-id-1 div.sk-parallel-item::after {\n",
       "  content: \"\";\n",
       "  width: 100%;\n",
       "  border-bottom: 2px solid var(--sklearn-color-text-on-default-background);\n",
       "  flex-grow: 1;\n",
       "}\n",
       "\n",
       "#sk-container-id-1 div.sk-parallel {\n",
       "  display: flex;\n",
       "  align-items: stretch;\n",
       "  justify-content: center;\n",
       "  background-color: var(--sklearn-color-background);\n",
       "  position: relative;\n",
       "}\n",
       "\n",
       "#sk-container-id-1 div.sk-parallel-item {\n",
       "  display: flex;\n",
       "  flex-direction: column;\n",
       "}\n",
       "\n",
       "#sk-container-id-1 div.sk-parallel-item:first-child::after {\n",
       "  align-self: flex-end;\n",
       "  width: 50%;\n",
       "}\n",
       "\n",
       "#sk-container-id-1 div.sk-parallel-item:last-child::after {\n",
       "  align-self: flex-start;\n",
       "  width: 50%;\n",
       "}\n",
       "\n",
       "#sk-container-id-1 div.sk-parallel-item:only-child::after {\n",
       "  width: 0;\n",
       "}\n",
       "\n",
       "/* Serial-specific style estimator block */\n",
       "\n",
       "#sk-container-id-1 div.sk-serial {\n",
       "  display: flex;\n",
       "  flex-direction: column;\n",
       "  align-items: center;\n",
       "  background-color: var(--sklearn-color-background);\n",
       "  padding-right: 1em;\n",
       "  padding-left: 1em;\n",
       "}\n",
       "\n",
       "\n",
       "/* Toggleable style: style used for estimator/Pipeline/ColumnTransformer box that is\n",
       "clickable and can be expanded/collapsed.\n",
       "- Pipeline and ColumnTransformer use this feature and define the default style\n",
       "- Estimators will overwrite some part of the style using the `sk-estimator` class\n",
       "*/\n",
       "\n",
       "/* Pipeline and ColumnTransformer style (default) */\n",
       "\n",
       "#sk-container-id-1 div.sk-toggleable {\n",
       "  /* Default theme specific background. It is overwritten whether we have a\n",
       "  specific estimator or a Pipeline/ColumnTransformer */\n",
       "  background-color: var(--sklearn-color-background);\n",
       "}\n",
       "\n",
       "/* Toggleable label */\n",
       "#sk-container-id-1 label.sk-toggleable__label {\n",
       "  cursor: pointer;\n",
       "  display: block;\n",
       "  width: 100%;\n",
       "  margin-bottom: 0;\n",
       "  padding: 0.5em;\n",
       "  box-sizing: border-box;\n",
       "  text-align: center;\n",
       "}\n",
       "\n",
       "#sk-container-id-1 label.sk-toggleable__label-arrow:before {\n",
       "  /* Arrow on the left of the label */\n",
       "  content: \"▸\";\n",
       "  float: left;\n",
       "  margin-right: 0.25em;\n",
       "  color: var(--sklearn-color-icon);\n",
       "}\n",
       "\n",
       "#sk-container-id-1 label.sk-toggleable__label-arrow:hover:before {\n",
       "  color: var(--sklearn-color-text);\n",
       "}\n",
       "\n",
       "/* Toggleable content - dropdown */\n",
       "\n",
       "#sk-container-id-1 div.sk-toggleable__content {\n",
       "  max-height: 0;\n",
       "  max-width: 0;\n",
       "  overflow: hidden;\n",
       "  text-align: left;\n",
       "  /* unfitted */\n",
       "  background-color: var(--sklearn-color-unfitted-level-0);\n",
       "}\n",
       "\n",
       "#sk-container-id-1 div.sk-toggleable__content.fitted {\n",
       "  /* fitted */\n",
       "  background-color: var(--sklearn-color-fitted-level-0);\n",
       "}\n",
       "\n",
       "#sk-container-id-1 div.sk-toggleable__content pre {\n",
       "  margin: 0.2em;\n",
       "  border-radius: 0.25em;\n",
       "  color: var(--sklearn-color-text);\n",
       "  /* unfitted */\n",
       "  background-color: var(--sklearn-color-unfitted-level-0);\n",
       "}\n",
       "\n",
       "#sk-container-id-1 div.sk-toggleable__content.fitted pre {\n",
       "  /* unfitted */\n",
       "  background-color: var(--sklearn-color-fitted-level-0);\n",
       "}\n",
       "\n",
       "#sk-container-id-1 input.sk-toggleable__control:checked~div.sk-toggleable__content {\n",
       "  /* Expand drop-down */\n",
       "  max-height: 200px;\n",
       "  max-width: 100%;\n",
       "  overflow: auto;\n",
       "}\n",
       "\n",
       "#sk-container-id-1 input.sk-toggleable__control:checked~label.sk-toggleable__label-arrow:before {\n",
       "  content: \"▾\";\n",
       "}\n",
       "\n",
       "/* Pipeline/ColumnTransformer-specific style */\n",
       "\n",
       "#sk-container-id-1 div.sk-label input.sk-toggleable__control:checked~label.sk-toggleable__label {\n",
       "  color: var(--sklearn-color-text);\n",
       "  background-color: var(--sklearn-color-unfitted-level-2);\n",
       "}\n",
       "\n",
       "#sk-container-id-1 div.sk-label.fitted input.sk-toggleable__control:checked~label.sk-toggleable__label {\n",
       "  background-color: var(--sklearn-color-fitted-level-2);\n",
       "}\n",
       "\n",
       "/* Estimator-specific style */\n",
       "\n",
       "/* Colorize estimator box */\n",
       "#sk-container-id-1 div.sk-estimator input.sk-toggleable__control:checked~label.sk-toggleable__label {\n",
       "  /* unfitted */\n",
       "  background-color: var(--sklearn-color-unfitted-level-2);\n",
       "}\n",
       "\n",
       "#sk-container-id-1 div.sk-estimator.fitted input.sk-toggleable__control:checked~label.sk-toggleable__label {\n",
       "  /* fitted */\n",
       "  background-color: var(--sklearn-color-fitted-level-2);\n",
       "}\n",
       "\n",
       "#sk-container-id-1 div.sk-label label.sk-toggleable__label,\n",
       "#sk-container-id-1 div.sk-label label {\n",
       "  /* The background is the default theme color */\n",
       "  color: var(--sklearn-color-text-on-default-background);\n",
       "}\n",
       "\n",
       "/* On hover, darken the color of the background */\n",
       "#sk-container-id-1 div.sk-label:hover label.sk-toggleable__label {\n",
       "  color: var(--sklearn-color-text);\n",
       "  background-color: var(--sklearn-color-unfitted-level-2);\n",
       "}\n",
       "\n",
       "/* Label box, darken color on hover, fitted */\n",
       "#sk-container-id-1 div.sk-label.fitted:hover label.sk-toggleable__label.fitted {\n",
       "  color: var(--sklearn-color-text);\n",
       "  background-color: var(--sklearn-color-fitted-level-2);\n",
       "}\n",
       "\n",
       "/* Estimator label */\n",
       "\n",
       "#sk-container-id-1 div.sk-label label {\n",
       "  font-family: monospace;\n",
       "  font-weight: bold;\n",
       "  display: inline-block;\n",
       "  line-height: 1.2em;\n",
       "}\n",
       "\n",
       "#sk-container-id-1 div.sk-label-container {\n",
       "  text-align: center;\n",
       "}\n",
       "\n",
       "/* Estimator-specific */\n",
       "#sk-container-id-1 div.sk-estimator {\n",
       "  font-family: monospace;\n",
       "  border: 1px dotted var(--sklearn-color-border-box);\n",
       "  border-radius: 0.25em;\n",
       "  box-sizing: border-box;\n",
       "  margin-bottom: 0.5em;\n",
       "  /* unfitted */\n",
       "  background-color: var(--sklearn-color-unfitted-level-0);\n",
       "}\n",
       "\n",
       "#sk-container-id-1 div.sk-estimator.fitted {\n",
       "  /* fitted */\n",
       "  background-color: var(--sklearn-color-fitted-level-0);\n",
       "}\n",
       "\n",
       "/* on hover */\n",
       "#sk-container-id-1 div.sk-estimator:hover {\n",
       "  /* unfitted */\n",
       "  background-color: var(--sklearn-color-unfitted-level-2);\n",
       "}\n",
       "\n",
       "#sk-container-id-1 div.sk-estimator.fitted:hover {\n",
       "  /* fitted */\n",
       "  background-color: var(--sklearn-color-fitted-level-2);\n",
       "}\n",
       "\n",
       "/* Specification for estimator info (e.g. \"i\" and \"?\") */\n",
       "\n",
       "/* Common style for \"i\" and \"?\" */\n",
       "\n",
       ".sk-estimator-doc-link,\n",
       "a:link.sk-estimator-doc-link,\n",
       "a:visited.sk-estimator-doc-link {\n",
       "  float: right;\n",
       "  font-size: smaller;\n",
       "  line-height: 1em;\n",
       "  font-family: monospace;\n",
       "  background-color: var(--sklearn-color-background);\n",
       "  border-radius: 1em;\n",
       "  height: 1em;\n",
       "  width: 1em;\n",
       "  text-decoration: none !important;\n",
       "  margin-left: 1ex;\n",
       "  /* unfitted */\n",
       "  border: var(--sklearn-color-unfitted-level-1) 1pt solid;\n",
       "  color: var(--sklearn-color-unfitted-level-1);\n",
       "}\n",
       "\n",
       ".sk-estimator-doc-link.fitted,\n",
       "a:link.sk-estimator-doc-link.fitted,\n",
       "a:visited.sk-estimator-doc-link.fitted {\n",
       "  /* fitted */\n",
       "  border: var(--sklearn-color-fitted-level-1) 1pt solid;\n",
       "  color: var(--sklearn-color-fitted-level-1);\n",
       "}\n",
       "\n",
       "/* On hover */\n",
       "div.sk-estimator:hover .sk-estimator-doc-link:hover,\n",
       ".sk-estimator-doc-link:hover,\n",
       "div.sk-label-container:hover .sk-estimator-doc-link:hover,\n",
       ".sk-estimator-doc-link:hover {\n",
       "  /* unfitted */\n",
       "  background-color: var(--sklearn-color-unfitted-level-3);\n",
       "  color: var(--sklearn-color-background);\n",
       "  text-decoration: none;\n",
       "}\n",
       "\n",
       "div.sk-estimator.fitted:hover .sk-estimator-doc-link.fitted:hover,\n",
       ".sk-estimator-doc-link.fitted:hover,\n",
       "div.sk-label-container:hover .sk-estimator-doc-link.fitted:hover,\n",
       ".sk-estimator-doc-link.fitted:hover {\n",
       "  /* fitted */\n",
       "  background-color: var(--sklearn-color-fitted-level-3);\n",
       "  color: var(--sklearn-color-background);\n",
       "  text-decoration: none;\n",
       "}\n",
       "\n",
       "/* Span, style for the box shown on hovering the info icon */\n",
       ".sk-estimator-doc-link span {\n",
       "  display: none;\n",
       "  z-index: 9999;\n",
       "  position: relative;\n",
       "  font-weight: normal;\n",
       "  right: .2ex;\n",
       "  padding: .5ex;\n",
       "  margin: .5ex;\n",
       "  width: min-content;\n",
       "  min-width: 20ex;\n",
       "  max-width: 50ex;\n",
       "  color: var(--sklearn-color-text);\n",
       "  box-shadow: 2pt 2pt 4pt #999;\n",
       "  /* unfitted */\n",
       "  background: var(--sklearn-color-unfitted-level-0);\n",
       "  border: .5pt solid var(--sklearn-color-unfitted-level-3);\n",
       "}\n",
       "\n",
       ".sk-estimator-doc-link.fitted span {\n",
       "  /* fitted */\n",
       "  background: var(--sklearn-color-fitted-level-0);\n",
       "  border: var(--sklearn-color-fitted-level-3);\n",
       "}\n",
       "\n",
       ".sk-estimator-doc-link:hover span {\n",
       "  display: block;\n",
       "}\n",
       "\n",
       "/* \"?\"-specific style due to the `<a>` HTML tag */\n",
       "\n",
       "#sk-container-id-1 a.estimator_doc_link {\n",
       "  float: right;\n",
       "  font-size: 1rem;\n",
       "  line-height: 1em;\n",
       "  font-family: monospace;\n",
       "  background-color: var(--sklearn-color-background);\n",
       "  border-radius: 1rem;\n",
       "  height: 1rem;\n",
       "  width: 1rem;\n",
       "  text-decoration: none;\n",
       "  /* unfitted */\n",
       "  color: var(--sklearn-color-unfitted-level-1);\n",
       "  border: var(--sklearn-color-unfitted-level-1) 1pt solid;\n",
       "}\n",
       "\n",
       "#sk-container-id-1 a.estimator_doc_link.fitted {\n",
       "  /* fitted */\n",
       "  border: var(--sklearn-color-fitted-level-1) 1pt solid;\n",
       "  color: var(--sklearn-color-fitted-level-1);\n",
       "}\n",
       "\n",
       "/* On hover */\n",
       "#sk-container-id-1 a.estimator_doc_link:hover {\n",
       "  /* unfitted */\n",
       "  background-color: var(--sklearn-color-unfitted-level-3);\n",
       "  color: var(--sklearn-color-background);\n",
       "  text-decoration: none;\n",
       "}\n",
       "\n",
       "#sk-container-id-1 a.estimator_doc_link.fitted:hover {\n",
       "  /* fitted */\n",
       "  background-color: var(--sklearn-color-fitted-level-3);\n",
       "}\n",
       "</style><div id=\"sk-container-id-1\" class=\"sk-top-container\"><div class=\"sk-text-repr-fallback\"><pre>GridSearchCV(cv=StratifiedKFold(n_splits=5, random_state=42, shuffle=True),\n",
       "             estimator=Pipeline(steps=[(&#x27;logreg_preprocessor&#x27;,\n",
       "                                        Pipeline(steps=[(&#x27;columndropper&#x27;,\n",
       "                                                         ColumnDropper(columns_to_drop=[&#x27;source&#x27;,\n",
       "                                                                                        &#x27;device_fraud_count&#x27;])),\n",
       "                                                        (&#x27;missingasnan&#x27;,\n",
       "                                                         MissingAsNan(missing_neg=[&#x27;intended_balcon_amount&#x27;],\n",
       "                                                                      missing_neg1=[&#x27;prev_address_months_count&#x27;,\n",
       "                                                                                    &#x27;current_address_mont...\n",
       "                                                        (&#x27;customonehotencoder&#x27;,\n",
       "                                                         CustomOneHotEncoder(ohe_columns=[&#x27;payment_type&#x27;,\n",
       "                                                                                          &#x27;employment_status&#x27;,\n",
       "                                                                                          &#x27;housing_status&#x27;,\n",
       "                                                                                          &#x27;device_os&#x27;,\n",
       "                                                                                          &#x27;device_distinct_emails_8w&#x27;])),\n",
       "                                                        (&#x27;customscaler&#x27;,\n",
       "                                                         CustomScaler())])),\n",
       "                                       (&#x27;logisticregression&#x27;,\n",
       "                                        LogisticRegression())]),\n",
       "             n_jobs=2, param_grid={&#x27;logisticregression__C&#x27;: [0.01, 0.1, 1, 10]},\n",
       "             scoring=make_scorer(recall_at_5percent_fpr, response_method=&#x27;predict&#x27;))</pre><b>In a Jupyter environment, please rerun this cell to show the HTML representation or trust the notebook. <br />On GitHub, the HTML representation is unable to render, please try loading this page with nbviewer.org.</b></div><div class=\"sk-container\" hidden><div class=\"sk-item sk-dashed-wrapped\"><div class=\"sk-label-container\"><div class=\"sk-label fitted sk-toggleable\"><input class=\"sk-toggleable__control sk-hidden--visually\" id=\"sk-estimator-id-1\" type=\"checkbox\" ><label for=\"sk-estimator-id-1\" class=\"sk-toggleable__label fitted sk-toggleable__label-arrow fitted\">&nbsp;&nbsp;GridSearchCV<a class=\"sk-estimator-doc-link fitted\" rel=\"noreferrer\" target=\"_blank\" href=\"https://scikit-learn.org/1.4/modules/generated/sklearn.model_selection.GridSearchCV.html\">?<span>Documentation for GridSearchCV</span></a><span class=\"sk-estimator-doc-link fitted\">i<span>Fitted</span></span></label><div class=\"sk-toggleable__content fitted\"><pre>GridSearchCV(cv=StratifiedKFold(n_splits=5, random_state=42, shuffle=True),\n",
       "             estimator=Pipeline(steps=[(&#x27;logreg_preprocessor&#x27;,\n",
       "                                        Pipeline(steps=[(&#x27;columndropper&#x27;,\n",
       "                                                         ColumnDropper(columns_to_drop=[&#x27;source&#x27;,\n",
       "                                                                                        &#x27;device_fraud_count&#x27;])),\n",
       "                                                        (&#x27;missingasnan&#x27;,\n",
       "                                                         MissingAsNan(missing_neg=[&#x27;intended_balcon_amount&#x27;],\n",
       "                                                                      missing_neg1=[&#x27;prev_address_months_count&#x27;,\n",
       "                                                                                    &#x27;current_address_mont...\n",
       "                                                        (&#x27;customonehotencoder&#x27;,\n",
       "                                                         CustomOneHotEncoder(ohe_columns=[&#x27;payment_type&#x27;,\n",
       "                                                                                          &#x27;employment_status&#x27;,\n",
       "                                                                                          &#x27;housing_status&#x27;,\n",
       "                                                                                          &#x27;device_os&#x27;,\n",
       "                                                                                          &#x27;device_distinct_emails_8w&#x27;])),\n",
       "                                                        (&#x27;customscaler&#x27;,\n",
       "                                                         CustomScaler())])),\n",
       "                                       (&#x27;logisticregression&#x27;,\n",
       "                                        LogisticRegression())]),\n",
       "             n_jobs=2, param_grid={&#x27;logisticregression__C&#x27;: [0.01, 0.1, 1, 10]},\n",
       "             scoring=make_scorer(recall_at_5percent_fpr, response_method=&#x27;predict&#x27;))</pre></div> </div></div><div class=\"sk-parallel\"><div class=\"sk-parallel-item\"><div class=\"sk-item\"><div class=\"sk-label-container\"><div class=\"sk-label fitted sk-toggleable\"><input class=\"sk-toggleable__control sk-hidden--visually\" id=\"sk-estimator-id-2\" type=\"checkbox\" ><label for=\"sk-estimator-id-2\" class=\"sk-toggleable__label fitted sk-toggleable__label-arrow fitted\">estimator: Pipeline</label><div class=\"sk-toggleable__content fitted\"><pre>Pipeline(steps=[(&#x27;logreg_preprocessor&#x27;,\n",
       "                 Pipeline(steps=[(&#x27;columndropper&#x27;,\n",
       "                                  ColumnDropper(columns_to_drop=[&#x27;source&#x27;,\n",
       "                                                                 &#x27;device_fraud_count&#x27;])),\n",
       "                                 (&#x27;missingasnan&#x27;,\n",
       "                                  MissingAsNan(missing_neg=[&#x27;intended_balcon_amount&#x27;],\n",
       "                                               missing_neg1=[&#x27;prev_address_months_count&#x27;,\n",
       "                                                             &#x27;current_address_months_count&#x27;,\n",
       "                                                             &#x27;bank_months_count&#x27;,\n",
       "                                                             &#x27;session_length_in_minutes&#x27;,\n",
       "                                                             &#x27;device_distinct_emails_8...\n",
       "                                                                  &#x27;bank_months_count&#x27;])),\n",
       "                                 (&#x27;missingvaluefiller&#x27;,\n",
       "                                  MissingValueFiller(fill_value=-1)),\n",
       "                                 (&#x27;incomerounder&#x27;, IncomeRounder()),\n",
       "                                 (&#x27;merger&#x27;, Merger()),\n",
       "                                 (&#x27;customonehotencoder&#x27;,\n",
       "                                  CustomOneHotEncoder(ohe_columns=[&#x27;payment_type&#x27;,\n",
       "                                                                   &#x27;employment_status&#x27;,\n",
       "                                                                   &#x27;housing_status&#x27;,\n",
       "                                                                   &#x27;device_os&#x27;,\n",
       "                                                                   &#x27;device_distinct_emails_8w&#x27;])),\n",
       "                                 (&#x27;customscaler&#x27;, CustomScaler())])),\n",
       "                (&#x27;logisticregression&#x27;, LogisticRegression())])</pre></div> </div></div><div class=\"sk-serial\"><div class=\"sk-item\"><div class=\"sk-serial\"><div class=\"sk-item\"><div class=\"sk-label-container\"><div class=\"sk-label fitted sk-toggleable\"><input class=\"sk-toggleable__control sk-hidden--visually\" id=\"sk-estimator-id-3\" type=\"checkbox\" ><label for=\"sk-estimator-id-3\" class=\"sk-toggleable__label fitted sk-toggleable__label-arrow fitted\">&nbsp;logreg_preprocessor: Pipeline<a class=\"sk-estimator-doc-link fitted\" rel=\"noreferrer\" target=\"_blank\" href=\"https://scikit-learn.org/1.4/modules/generated/sklearn.pipeline.Pipeline.html\">?<span>Documentation for logreg_preprocessor: Pipeline</span></a></label><div class=\"sk-toggleable__content fitted\"><pre>Pipeline(steps=[(&#x27;columndropper&#x27;,\n",
       "                 ColumnDropper(columns_to_drop=[&#x27;source&#x27;,\n",
       "                                                &#x27;device_fraud_count&#x27;])),\n",
       "                (&#x27;missingasnan&#x27;,\n",
       "                 MissingAsNan(missing_neg=[&#x27;intended_balcon_amount&#x27;],\n",
       "                              missing_neg1=[&#x27;prev_address_months_count&#x27;,\n",
       "                                            &#x27;current_address_months_count&#x27;,\n",
       "                                            &#x27;bank_months_count&#x27;,\n",
       "                                            &#x27;session_length_in_minutes&#x27;,\n",
       "                                            &#x27;device_distinct_emails_8w&#x27;])),\n",
       "                (&#x27;missingflagger&#x27;,\n",
       "                 MissingFlagger(...count&#x27;,\n",
       "                                                 &#x27;intended_balcon_amount&#x27;,\n",
       "                                                 &#x27;bank_months_count&#x27;])),\n",
       "                (&#x27;missingvaluefiller&#x27;, MissingValueFiller(fill_value=-1)),\n",
       "                (&#x27;incomerounder&#x27;, IncomeRounder()), (&#x27;merger&#x27;, Merger()),\n",
       "                (&#x27;customonehotencoder&#x27;,\n",
       "                 CustomOneHotEncoder(ohe_columns=[&#x27;payment_type&#x27;,\n",
       "                                                  &#x27;employment_status&#x27;,\n",
       "                                                  &#x27;housing_status&#x27;, &#x27;device_os&#x27;,\n",
       "                                                  &#x27;device_distinct_emails_8w&#x27;])),\n",
       "                (&#x27;customscaler&#x27;, CustomScaler())])</pre></div> </div></div><div class=\"sk-serial\"><div class=\"sk-item\"><div class=\"sk-estimator fitted sk-toggleable\"><input class=\"sk-toggleable__control sk-hidden--visually\" id=\"sk-estimator-id-4\" type=\"checkbox\" ><label for=\"sk-estimator-id-4\" class=\"sk-toggleable__label fitted sk-toggleable__label-arrow fitted\">ColumnDropper</label><div class=\"sk-toggleable__content fitted\"><pre>ColumnDropper(columns_to_drop=[&#x27;source&#x27;, &#x27;device_fraud_count&#x27;])</pre></div> </div></div><div class=\"sk-item\"><div class=\"sk-estimator fitted sk-toggleable\"><input class=\"sk-toggleable__control sk-hidden--visually\" id=\"sk-estimator-id-5\" type=\"checkbox\" ><label for=\"sk-estimator-id-5\" class=\"sk-toggleable__label fitted sk-toggleable__label-arrow fitted\">MissingAsNan</label><div class=\"sk-toggleable__content fitted\"><pre>MissingAsNan(missing_neg=[&#x27;intended_balcon_amount&#x27;],\n",
       "             missing_neg1=[&#x27;prev_address_months_count&#x27;,\n",
       "                           &#x27;current_address_months_count&#x27;, &#x27;bank_months_count&#x27;,\n",
       "                           &#x27;session_length_in_minutes&#x27;,\n",
       "                           &#x27;device_distinct_emails_8w&#x27;])</pre></div> </div></div><div class=\"sk-item\"><div class=\"sk-estimator fitted sk-toggleable\"><input class=\"sk-toggleable__control sk-hidden--visually\" id=\"sk-estimator-id-6\" type=\"checkbox\" ><label for=\"sk-estimator-id-6\" class=\"sk-toggleable__label fitted sk-toggleable__label-arrow fitted\">MissingFlagger</label><div class=\"sk-toggleable__content fitted\"><pre>MissingFlagger(columns_to_flag=[&#x27;prev_address_months_count&#x27;,\n",
       "                                &#x27;intended_balcon_amount&#x27;, &#x27;bank_months_count&#x27;])</pre></div> </div></div><div class=\"sk-item\"><div class=\"sk-estimator fitted sk-toggleable\"><input class=\"sk-toggleable__control sk-hidden--visually\" id=\"sk-estimator-id-7\" type=\"checkbox\" ><label for=\"sk-estimator-id-7\" class=\"sk-toggleable__label fitted sk-toggleable__label-arrow fitted\">MissingValueFiller</label><div class=\"sk-toggleable__content fitted\"><pre>MissingValueFiller(fill_value=-1)</pre></div> </div></div><div class=\"sk-item\"><div class=\"sk-estimator fitted sk-toggleable\"><input class=\"sk-toggleable__control sk-hidden--visually\" id=\"sk-estimator-id-8\" type=\"checkbox\" ><label for=\"sk-estimator-id-8\" class=\"sk-toggleable__label fitted sk-toggleable__label-arrow fitted\">IncomeRounder</label><div class=\"sk-toggleable__content fitted\"><pre>IncomeRounder()</pre></div> </div></div><div class=\"sk-item\"><div class=\"sk-estimator fitted sk-toggleable\"><input class=\"sk-toggleable__control sk-hidden--visually\" id=\"sk-estimator-id-9\" type=\"checkbox\" ><label for=\"sk-estimator-id-9\" class=\"sk-toggleable__label fitted sk-toggleable__label-arrow fitted\">Merger</label><div class=\"sk-toggleable__content fitted\"><pre>Merger()</pre></div> </div></div><div class=\"sk-item\"><div class=\"sk-estimator fitted sk-toggleable\"><input class=\"sk-toggleable__control sk-hidden--visually\" id=\"sk-estimator-id-10\" type=\"checkbox\" ><label for=\"sk-estimator-id-10\" class=\"sk-toggleable__label fitted sk-toggleable__label-arrow fitted\">CustomOneHotEncoder</label><div class=\"sk-toggleable__content fitted\"><pre>CustomOneHotEncoder(ohe_columns=[&#x27;payment_type&#x27;, &#x27;employment_status&#x27;,\n",
       "                                 &#x27;housing_status&#x27;, &#x27;device_os&#x27;,\n",
       "                                 &#x27;device_distinct_emails_8w&#x27;])</pre></div> </div></div><div class=\"sk-item\"><div class=\"sk-estimator fitted sk-toggleable\"><input class=\"sk-toggleable__control sk-hidden--visually\" id=\"sk-estimator-id-11\" type=\"checkbox\" ><label for=\"sk-estimator-id-11\" class=\"sk-toggleable__label fitted sk-toggleable__label-arrow fitted\">CustomScaler</label><div class=\"sk-toggleable__content fitted\"><pre>CustomScaler()</pre></div> </div></div></div></div><div class=\"sk-item\"><div class=\"sk-estimator fitted sk-toggleable\"><input class=\"sk-toggleable__control sk-hidden--visually\" id=\"sk-estimator-id-12\" type=\"checkbox\" ><label for=\"sk-estimator-id-12\" class=\"sk-toggleable__label fitted sk-toggleable__label-arrow fitted\">&nbsp;LogisticRegression<a class=\"sk-estimator-doc-link fitted\" rel=\"noreferrer\" target=\"_blank\" href=\"https://scikit-learn.org/1.4/modules/generated/sklearn.linear_model.LogisticRegression.html\">?<span>Documentation for LogisticRegression</span></a></label><div class=\"sk-toggleable__content fitted\"><pre>LogisticRegression()</pre></div> </div></div></div></div></div></div></div></div></div></div></div>"
      ]
     },
     "execution_count": 15,
     "metadata": {},
     "output_type": "execute_result"
    }
   ],
   "execution_count": 15
  },
  {
   "cell_type": "code",
   "metadata": {
    "ExecuteTime": {
     "end_time": "2024-05-02T07:28:14.208367Z",
     "start_time": "2024-05-02T07:28:14.204007Z"
    }
   },
   "source": [
    "best_model = grid_search.best_estimator_\n",
    "# Print best model parameters\n",
    "print(f\"Best Model Parameters:\\\n",
    "{best_model.named_steps['logisticregression'].get_params()}\")"
   ],
   "outputs": [
    {
     "name": "stdout",
     "output_type": "stream",
     "text": [
      "Best Model Parameters:{'C': 1, 'class_weight': None, 'dual': False, 'fit_intercept': True, 'intercept_scaling': 1, 'l1_ratio': None, 'max_iter': 100, 'multi_class': 'auto', 'n_jobs': None, 'penalty': 'l2', 'random_state': None, 'solver': 'lbfgs', 'tol': 0.0001, 'verbose': 0, 'warm_start': False}\n"
     ]
    }
   ],
   "execution_count": 16
  },
  {
   "cell_type": "code",
   "metadata": {
    "ExecuteTime": {
     "end_time": "2024-05-02T07:28:16.064946Z",
     "start_time": "2024-05-02T07:28:14.209325Z"
    }
   },
   "source": [
    "# Make probability predictions on train and test\n",
    "y_pred_train_proba = best_model.predict_proba(X_train)[:, 1]\n",
    "y_pred_test_proba = best_model.predict_proba(X_test)[:, 1]"
   ],
   "outputs": [],
   "execution_count": 17
  },
  {
   "cell_type": "code",
   "metadata": {
    "ExecuteTime": {
     "end_time": "2024-05-02T07:28:16.068269Z",
     "start_time": "2024-05-02T07:28:16.065904Z"
    }
   },
   "source": [
    "# Cross-validation performance\n",
    "cv_results = grid_search.cv_results_\n",
    "print(f\"\\nCross-Validation Recall @ 5% FPR: {cv_results['mean_test_score'][0]:.4f}\")\n",
    "for i in range(stratified_cv.get_n_splits()):\n",
    "    print(f\"  fold_{i+1}: {cv_results[f'split{i}_test_score'][0]:.4f}\")"
   ],
   "outputs": [
    {
     "name": "stdout",
     "output_type": "stream",
     "text": [
      "\n",
      "Cross-Validation Recall @ 5% FPR: 0.0112\n",
      "  fold_1: 0.0098\n",
      "  fold_2: 0.0113\n",
      "  fold_3: 0.0144\n",
      "  fold_4: 0.0091\n",
      "  fold_5: 0.0113\n"
     ]
    }
   ],
   "execution_count": 18
  },
  {
   "cell_type": "code",
   "metadata": {
    "ExecuteTime": {
     "end_time": "2024-05-02T07:28:16.085387Z",
     "start_time": "2024-05-02T07:28:16.069002Z"
    }
   },
   "source": [
    "# Declic Evaluation\n",
    "\n",
    "# def declic_eval(y_true,y_pred_proba,num_sets=10):\n",
    "#     df_y = pd.DataFrame(data= {'true': y_true, 'predicted': y_pred_proba})\n",
    "#     df_y = df_y.sort_values(by='predicted',ascending = False).reset_index()\n",
    "#     step_size = 100 / num_sets\n",
    "#     labels = [f\"{i*step_size:.0f}-{(i+1)*step_size:.0f}%\" for i in range(num_sets)]\n",
    "#     df_y['set'] = pd.qcut(df_y.index, num_sets, labels=labels)\n",
    "    \n",
    "#     fig_width, fig_height = 6.4*1.5, 4.8\n",
    "#     fig = plt.figure(figsize=(fig_width, fig_height))\n",
    "#     ax = (df_y.groupby('set')['true'].mean()*100).plot\\\n",
    "#         (kind='bar',\n",
    "#          title='Declic Evaluation: Fraud Rate for Deciles of Sorted Predictions'\n",
    "#         )\n",
    "    \n",
    "#     ax.axhline(y=y_true.mean()*100, color='red', linestyle='--')\n",
    "    \n",
    "#     for p in ax.patches:\n",
    "#         ax.annotate(f'{p.get_height():.2f}%',\n",
    "#                     xy=(p.get_x() + p.get_width() / 2., p.get_height()),\n",
    "#                     ha='center', va='bottom', xytext=(0,0),\n",
    "#                     textcoords='offset points')\n",
    "\n",
    "#     ax.annotate(f'Mean Fraud Rate: {y_true.mean()*100:.3f}%',\n",
    "#                 xy=(fig_width*.5, y.mean()*100), xytext=(0,2),\n",
    "#                 ha='left', va='bottom', color='red',\n",
    "#                 textcoords='offset points')\n",
    "\n",
    "#     ax.set_ylabel('Fraud %')\n",
    "#     ax.set_xlabel('Decile of Sorted Predictions')\n",
    "#     ax.xaxis.grid(False)\n",
    "    \n",
    "#     plt.show()\n",
    "    \n",
    "#     return"
   ],
   "outputs": [],
   "execution_count": 19
  },
  {
   "cell_type": "code",
   "metadata": {
    "ExecuteTime": {
     "end_time": "2024-05-02T07:28:16.307943Z",
     "start_time": "2024-05-02T07:28:16.085759Z"
    }
   },
   "source": [
    "# Test performance\n",
    "recall_test = recall_at_5percent_fpr(y_test, y_pred_test_proba)\n",
    "print(f'\\nTest Recall @ 5% FPR: {recall_test}')\n",
    "roc_auc_test = roc_auc_score(y_test, y_pred_test_proba)\n",
    "print(f'\\nTest roc_auc_score: {roc_auc_test}')\n",
    "# print(f'\\nTest Declic Evaluation:')\n",
    "# declic_eval(y_test,y_pred_test_proba)"
   ],
   "outputs": [
    {
     "name": "stdout",
     "output_type": "stream",
     "text": [
      "\n",
      "Test Recall @ 5% FPR: 0.5167724388032638\n",
      "\n",
      "Test roc_auc_score: 0.8800818334479535\n"
     ]
    }
   ],
   "execution_count": 20
  },
  {
   "cell_type": "code",
   "metadata": {
    "ExecuteTime": {
     "end_time": "2024-05-02T07:28:16.311947Z",
     "start_time": "2024-05-02T07:28:16.309007Z"
    }
   },
   "source": [
    "lgbm_preprocessor = make_pipeline(ColumnDropper(cols_to_drop),\n",
    "                                  MissingAsNan(cols_missing_neg1,cols_missing_neg),\n",
    "                                  MissingFlagger(cols_to_flag),\n",
    "                                  MissingValueFiller(fill_value),\n",
    "                                  IncomeRounder(),\n",
    "                                  Merger(),\n",
    "                                  CategoricalConverter(ohe_cols)\n",
    "                                 )"
   ],
   "outputs": [],
   "execution_count": 21
  },
  {
   "cell_type": "code",
   "metadata": {
    "ExecuteTime": {
     "end_time": "2024-05-02T07:28:17.200890Z",
     "start_time": "2024-05-02T07:28:16.312822Z"
    }
   },
   "source": [
    "# Preprocess the data\n",
    "X_train_processed = lgbm_preprocessor.fit_transform(X_train)\n",
    "X_test_processed = lgbm_preprocessor.transform(X_test)"
   ],
   "outputs": [],
   "execution_count": 22
  },
  {
   "cell_type": "code",
   "metadata": {
    "ExecuteTime": {
     "end_time": "2024-05-02T07:28:17.407539Z",
     "start_time": "2024-05-02T07:28:17.202106Z"
    }
   },
   "source": [
    "# Train/validation split with stratified sampling\n",
    "X_train_lgbm, X_val_lgbm, y_train_lgbm, y_val_lgbm = train_test_split\\\n",
    "    (X_train_processed, y_train, test_size=0.2, random_state=SEED, stratify=y_train)"
   ],
   "outputs": [],
   "execution_count": 23
  },
  {
   "cell_type": "code",
   "metadata": {
    "ExecuteTime": {
     "end_time": "2024-05-02T07:28:19.917286Z",
     "start_time": "2024-05-02T07:28:17.409145Z"
    }
   },
   "source": [
    "# Define LGBM parameters\n",
    "params = {\n",
    "    'objective': 'binary',\n",
    "    'metric': 'binary_error',\n",
    "    'num_leaves':17,\n",
    "    'learning_rate': 0.05,\n",
    "    'verbose': -1,\n",
    "    'early_stopping_rounds': 250\n",
    "}\n",
    "\n",
    "# Create dataset for LGBM\n",
    "lgb_train = lgb.Dataset(X_train_lgbm, y_train_lgbm)\n",
    "lgb_val = lgb.Dataset(X_val_lgbm, y_val_lgbm)\n",
    "\n",
    "# Train the model\n",
    "model = lgb.train(params, lgb_train, num_boost_round=1000,\n",
    "                  valid_sets=[lgb_train, lgb_val])"
   ],
   "outputs": [],
   "execution_count": 24
  },
  {
   "cell_type": "code",
   "metadata": {
    "ExecuteTime": {
     "end_time": "2024-05-02T07:28:21.047926Z",
     "start_time": "2024-05-02T07:28:19.918956Z"
    }
   },
   "source": [
    "# # Make probability predictions on train and test\n",
    "y_pred_train_proba = model.predict\\\n",
    "    (X_train_lgbm, num_iteration=model.best_iteration, raw_score=True)\n",
    "y_pred_val_proba = model.predict\\\n",
    "    (X_val_lgbm, num_iteration=model.best_iteration, raw_score=True)\n",
    "y_pred_test_proba = model.predict\\\n",
    "    (X_test_processed, num_iteration=model.best_iteration)\n",
    "\n",
    "# Training performance\n",
    "recall_train = recall_at_5percent_fpr(y_train_lgbm, y_pred_train_proba)\n",
    "roc_auc_train = roc_auc_score(y_train_lgbm, y_pred_train_proba)\n",
    "\n",
    "# Validation performance\n",
    "recall_val = recall_at_5percent_fpr(y_val_lgbm, y_pred_val_proba)\n",
    "roc_auc_val = roc_auc_score(y_val_lgbm, y_pred_val_proba)\n",
    "\n",
    "# Test performance\n",
    "recall_test = recall_at_5percent_fpr(y_test, y_pred_test_proba)\n",
    "roc_auc_test = roc_auc_score(y_test, y_pred_test_proba)"
   ],
   "outputs": [],
   "execution_count": 25
  },
  {
   "cell_type": "code",
   "metadata": {
    "ExecuteTime": {
     "end_time": "2024-05-02T07:28:21.051514Z",
     "start_time": "2024-05-02T07:28:21.048919Z"
    }
   },
   "source": [
    "# Print Recall @ 5% FPR for train, validation and test\n",
    "print(f'\\nRecall @ 5% FPR:\\n- Validation: {recall_val}\\n- Test: {recall_test}')\n",
    "\n",
    "# Print roc_auc_score for train, validation and test\n",
    "print(f'\\nroc_auc_score:\\n- Validation: \\\n",
    "    {roc_auc_val}\\n- Test: {roc_auc_test}')"
   ],
   "outputs": [
    {
     "name": "stdout",
     "output_type": "stream",
     "text": [
      "\n",
      "Recall @ 5% FPR:\n",
      "- Validation: 0.5366591080876795\n",
      "- Test: 0.5321849501359928\n",
      "\n",
      "roc_auc_score:\n",
      "- Validation:     0.8930685104104193\n",
      "- Test: 0.8890331468976794\n"
     ]
    }
   ],
   "execution_count": 26
  },
  {
   "cell_type": "code",
   "metadata": {
    "ExecuteTime": {
     "end_time": "2024-05-02T07:28:21.072822Z",
     "start_time": "2024-05-02T07:28:21.052540Z"
    }
   },
   "source": [
    "joblib.dump(best_model, 'logreg_model.pkl')\n",
    "joblib.dump(lgbm_preprocessor, 'lgbm_preprocessor.pkl')\n",
    "model.save_model('lgbm_model.txt')\n"
   ],
   "outputs": [
    {
     "data": {
      "text/plain": [
       "<lightgbm.basic.Booster at 0x7f0c56cd0850>"
      ]
     },
     "execution_count": 27,
     "metadata": {},
     "output_type": "execute_result"
    }
   ],
   "execution_count": 27
  },
  {
   "cell_type": "code",
   "metadata": {
    "ExecuteTime": {
     "end_time": "2024-05-02T07:28:21.081215Z",
     "start_time": "2024-05-02T07:28:21.073617Z"
    }
   },
   "source": [
    "loaded_logreg_model = joblib.load('logreg_model.pkl')\n",
    "loaded_lgbm_preprocessor = joblib.load('lgbm_preprocessor.pkl')\n",
    "loaded_lgbm_model = lgb.Booster(model_file='lgbm_model.txt')"
   ],
   "outputs": [],
   "execution_count": 28
  },
  {
   "cell_type": "code",
   "metadata": {
    "ExecuteTime": {
     "end_time": "2024-05-02T07:28:21.507516Z",
     "start_time": "2024-05-02T07:28:21.082121Z"
    }
   },
   "source": [
    "log_reg_pred = loaded_logreg_model.predict_proba(X_holdout)[:,1]"
   ],
   "outputs": [],
   "execution_count": 29
  },
  {
   "cell_type": "code",
   "metadata": {
    "ExecuteTime": {
     "end_time": "2024-05-02T07:28:21.828671Z",
     "start_time": "2024-05-02T07:28:21.512184Z"
    }
   },
   "source": [
    "lgbm_pred = loaded_lgbm_model.predict(loaded_lgbm_preprocessor.transform(X_holdout))"
   ],
   "outputs": [],
   "execution_count": 30
  },
  {
   "cell_type": "code",
   "metadata": {
    "ExecuteTime": {
     "end_time": "2024-05-02T07:28:22.046217Z",
     "start_time": "2024-05-02T07:28:21.830791Z"
    }
   },
   "source": [
    "# Test performance\n",
    "recall_test = recall_at_5percent_fpr(y_holdout, log_reg_pred)\n",
    "roc_auc_test = roc_auc_score(y_holdout, log_reg_pred)\n",
    "print(f'\\nLogistic Regression Test Recall @ 5% FPR: {recall_test}')\n",
    "print(f'\\nLogistic Regression Test roc_auc_score: {roc_auc_test}')"
   ],
   "outputs": [
    {
     "name": "stdout",
     "output_type": "stream",
     "text": [
      "\n",
      "Logistic Regression Test Recall @ 5% FPR: 0.5185856754306437\n",
      "\n",
      "Logistic Regression Test roc_auc_score: 0.8843274477046648\n"
     ]
    }
   ],
   "execution_count": 31
  },
  {
   "cell_type": "code",
   "metadata": {
    "ExecuteTime": {
     "end_time": "2024-05-02T07:28:22.245120Z",
     "start_time": "2024-05-02T07:28:22.047370Z"
    }
   },
   "source": [
    "# Test performance\n",
    "recall_test = recall_at_5percent_fpr(y_holdout, lgbm_pred)\n",
    "roc_auc_test = roc_auc_score(y_holdout, lgbm_pred)\n",
    "print(f'\\nLGBM Test Recall @ 5% FPR: {recall_test}')\n",
    "print(f'\\nLGBM Test roc_auc_score: {roc_auc_test}')"
   ],
   "outputs": [
    {
     "name": "stdout",
     "output_type": "stream",
     "text": [
      "\n",
      "LGBM Test Recall @ 5% FPR: 0.5367180417044425\n",
      "\n",
      "LGBM Test roc_auc_score: 0.8916300683666866\n"
     ]
    }
   ],
   "execution_count": 32
  }
 ],
 "metadata": {
  "kernelspec": {
   "display_name": "fastapi_exp-yOQoXnvz",
   "language": "python",
   "name": "python3"
  },
  "language_info": {
   "codemirror_mode": {
    "name": "ipython",
    "version": 3
   },
   "file_extension": ".py",
   "mimetype": "text/x-python",
   "name": "python",
   "nbconvert_exporter": "python",
   "pygments_lexer": "ipython3",
   "version": "3.11.5"
  }
 },
 "nbformat": 4,
 "nbformat_minor": 2
}
